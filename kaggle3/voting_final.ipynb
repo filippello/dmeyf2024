{
 "cells": [
  {
   "cell_type": "code",
   "execution_count": 8,
   "metadata": {},
   "outputs": [
    {
     "name": "stdout",
     "output_type": "stream",
     "text": [
      "        numero_de_cliente  final\n",
      "121913          994868977      1\n",
      "13659           312873820      1\n",
      "114097          941570309      1\n",
      "130974         1066629644      1\n",
      "95962           832312728      1\n"
     ]
    },
    {
     "name": "stderr",
     "output_type": "stream",
     "text": [
      "/var/folders/_z/yw7111gj13n0jxw8xj4ql2dc0000gn/T/ipykernel_25856/2383006125.py:21: FutureWarning: A value is trying to be set on a copy of a DataFrame or Series through chained assignment using an inplace method.\n",
      "The behavior will change in pandas 3.0. This inplace method will never work because the intermediate object on which we are setting values always behaves as a copy.\n",
      "\n",
      "For example, when doing 'df[col].method(value, inplace=True)', try using 'df.method({col: value}, inplace=True)' or df[col] = df[col].method(value) instead, to perform the operation inplace on the original object.\n",
      "\n",
      "\n",
      "  Predicted_comb[\"Predicted_1\"].fillna(0, inplace=True)\n",
      "/var/folders/_z/yw7111gj13n0jxw8xj4ql2dc0000gn/T/ipykernel_25856/2383006125.py:22: FutureWarning: A value is trying to be set on a copy of a DataFrame or Series through chained assignment using an inplace method.\n",
      "The behavior will change in pandas 3.0. This inplace method will never work because the intermediate object on which we are setting values always behaves as a copy.\n",
      "\n",
      "For example, when doing 'df[col].method(value, inplace=True)', try using 'df.method({col: value}, inplace=True)' or df[col] = df[col].method(value) instead, to perform the operation inplace on the original object.\n",
      "\n",
      "\n",
      "  Predicted_comb[\"Predicted_2\"].fillna(0, inplace=True)\n"
     ]
    }
   ],
   "source": [
    "import pandas as pd\n",
    "\n",
    "# Cargar los dos archivos de Predicteds\n",
    "voting1 = pd.read_csv(\"exp_lineademuerte_voting_3_1.csv\")\n",
    "voting2 = pd.read_csv(\"exp_lineademuerte_voting_prob_1.csv\")\n",
    "\n",
    "# Asegurarnos de que tienen las mismas claves y columnas necesarias\n",
    "voting1[\"Predicted\"] = voting1[\"Predicted\"].apply(lambda x: 3 if x == 1 else 0)\n",
    "voting2[\"Predicted\"] = voting2[\"Predicted\"].apply(lambda x: 2 if x == 1 else 0)\n",
    "\n",
    "# Unir ambos Predicteds por 'numero_de_cliente' y 'foto_mes'\n",
    "Predicted_comb = pd.merge(\n",
    "    voting1[[\"numero_de_cliente\",\"Predicted\"]],\n",
    "    voting2[[\"numero_de_cliente\",\"Predicted\"]],\n",
    "    on=[\"numero_de_cliente\"],\n",
    "    how=\"outer\",\n",
    "    suffixes=(\"_1\", \"_2\")\n",
    ")\n",
    "\n",
    "# Reemplazar los valores NaN por 0 antes de sumar\n",
    "Predicted_comb[\"Predicted_1\"].fillna(0, inplace=True)\n",
    "Predicted_comb[\"Predicted_2\"].fillna(0, inplace=True)\n",
    "\n",
    "# Convertir los valores a enteros para la suma\n",
    "Predicted_comb[\"Predicted_1\"] = Predicted_comb[\"Predicted_1\"].astype(int)\n",
    "Predicted_comb[\"Predicted_2\"] = Predicted_comb[\"Predicted_2\"].astype(int)\n",
    "\n",
    "# Sumar los Predicteds\n",
    "Predicted_comb[\"suma\"] = Predicted_comb[\"Predicted_1\"] + Predicted_comb[\"Predicted_2\"]\n",
    "\n",
    "# Ordenar por la suma en orden descendente\n",
    "Predicted_comb.sort_values(by=\"suma\", ascending=False, inplace=True)\n",
    "\n",
    "# Crear la columna final: 1 para los primeros 10500, 0 para el resto\n",
    "Predicted_comb[\"final\"] = 0\n",
    "#Predicted_comb.loc[:10499, \"final\"] = 1\n",
    "\n",
    "# Guardar el Predicted final\n",
    "#Predicted_comb.to_csv(\"Predicted_final.csv\", index=False)\n",
    "Predicted_comb = Predicted_comb[[\"numero_de_cliente\", \"final\"]]\n",
    "#renombrar final por Predicted\n",
    "#Predicted_comb.rename(columns={\"final\":\"Predicted\"}, inplace=True)\n",
    "# Verificar el Predicted\n",
    "print(Predicted_comb.head())\n"
   ]
  },
  {
   "cell_type": "code",
   "execution_count": 9,
   "metadata": {},
   "outputs": [
    {
     "name": "stdout",
     "output_type": "stream",
     "text": [
      "        numero_de_cliente  final\n",
      "121913          994868977      1\n",
      "13659           312873820      1\n",
      "114097          941570309      1\n",
      "130974         1066629644      1\n",
      "95962           832312728      1\n"
     ]
    }
   ],
   "source": [
    "print(Predicted_comb.head())\n"
   ]
  },
  {
   "cell_type": "code",
   "execution_count": 10,
   "metadata": {},
   "outputs": [
    {
     "data": {
      "text/plain": [
       "final\n",
       "1    108945\n",
       "0     56699\n",
       "Name: count, dtype: int64"
      ]
     },
     "execution_count": 10,
     "metadata": {},
     "output_type": "execute_result"
    }
   ],
   "source": [
    "Predicted_comb['final'].value_counts()"
   ]
  },
  {
   "cell_type": "code",
   "execution_count": null,
   "metadata": {},
   "outputs": [],
   "source": [
    "Predicted_comb.to_csv(\"Predicted_final_10500.csv\", index=False)"
   ]
  }
 ],
 "metadata": {
  "kernelspec": {
   "display_name": "jupyter-env",
   "language": "python",
   "name": "python3"
  },
  "language_info": {
   "codemirror_mode": {
    "name": "ipython",
    "version": 3
   },
   "file_extension": ".py",
   "mimetype": "text/x-python",
   "name": "python",
   "nbconvert_exporter": "python",
   "pygments_lexer": "ipython3",
   "version": "3.12.7"
  }
 },
 "nbformat": 4,
 "nbformat_minor": 2
}
