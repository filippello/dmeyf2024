{
 "cells": [
  {
   "cell_type": "code",
   "execution_count": 1,
   "metadata": {},
   "outputs": [],
   "source": [
    "import pandas as pd"
   ]
  },
  {
   "cell_type": "code",
   "execution_count": 2,
   "metadata": {},
   "outputs": [],
   "source": [
    "df = pd.read_csv(\"competencia_01_baja3.csv\")"
   ]
  },
  {
   "cell_type": "code",
   "execution_count": 7,
   "metadata": {},
   "outputs": [
    {
     "data": {
      "text/html": [
       "<div>\n",
       "<style scoped>\n",
       "    .dataframe tbody tr th:only-of-type {\n",
       "        vertical-align: middle;\n",
       "    }\n",
       "\n",
       "    .dataframe tbody tr th {\n",
       "        vertical-align: top;\n",
       "    }\n",
       "\n",
       "    .dataframe thead th {\n",
       "        text-align: right;\n",
       "    }\n",
       "</style>\n",
       "<table border=\"1\" class=\"dataframe\">\n",
       "  <thead>\n",
       "    <tr style=\"text-align: right;\">\n",
       "      <th></th>\n",
       "      <th>numero_de_cliente</th>\n",
       "      <th>foto_mes</th>\n",
       "      <th>active_quarter</th>\n",
       "      <th>cliente_vip</th>\n",
       "      <th>internet</th>\n",
       "      <th>cliente_edad</th>\n",
       "      <th>cliente_antiguedad</th>\n",
       "      <th>mrentabilidad</th>\n",
       "      <th>mrentabilidad_annual</th>\n",
       "      <th>mcomisiones</th>\n",
       "      <th>...</th>\n",
       "      <th>Visa_fultimo_cierre</th>\n",
       "      <th>Visa_mpagado</th>\n",
       "      <th>Visa_mpagospesos</th>\n",
       "      <th>Visa_mpagosdolares</th>\n",
       "      <th>Visa_fechaalta</th>\n",
       "      <th>Visa_mconsumototal</th>\n",
       "      <th>Visa_cconsumos</th>\n",
       "      <th>Visa_cadelantosefectivo</th>\n",
       "      <th>Visa_mpagominimo</th>\n",
       "      <th>clase_ternaria</th>\n",
       "    </tr>\n",
       "  </thead>\n",
       "  <tbody>\n",
       "  </tbody>\n",
       "</table>\n",
       "<p>0 rows × 155 columns</p>\n",
       "</div>"
      ],
      "text/plain": [
       "Empty DataFrame\n",
       "Columns: [numero_de_cliente, foto_mes, active_quarter, cliente_vip, internet, cliente_edad, cliente_antiguedad, mrentabilidad, mrentabilidad_annual, mcomisiones, mactivos_margen, mpasivos_margen, cproductos, tcuentas, ccuenta_corriente, mcuenta_corriente_adicional, mcuenta_corriente, ccaja_ahorro, mcaja_ahorro, mcaja_ahorro_adicional, mcaja_ahorro_dolares, cdescubierto_preacordado, mcuentas_saldo, ctarjeta_debito, ctarjeta_debito_transacciones, mautoservicio, ctarjeta_visa, ctarjeta_visa_transacciones, mtarjeta_visa_consumo, ctarjeta_master, ctarjeta_master_transacciones, mtarjeta_master_consumo, cprestamos_personales, mprestamos_personales, cprestamos_prendarios, mprestamos_prendarios, cprestamos_hipotecarios, mprestamos_hipotecarios, cplazo_fijo, mplazo_fijo_dolares, mplazo_fijo_pesos, cinversion1, minversion1_pesos, minversion1_dolares, cinversion2, minversion2, cseguro_vida, cseguro_auto, cseguro_vivienda, cseguro_accidentes_personales, ccaja_seguridad, cpayroll_trx, mpayroll, mpayroll2, cpayroll2_trx, ccuenta_debitos_automaticos, mcuenta_debitos_automaticos, ctarjeta_visa_debitos_automaticos, mttarjeta_visa_debitos_automaticos, ctarjeta_master_debitos_automaticos, mttarjeta_master_debitos_automaticos, cpagodeservicios, mpagodeservicios, cpagomiscuentas, mpagomiscuentas, ccajeros_propios_descuentos, mcajeros_propios_descuentos, ctarjeta_visa_descuentos, mtarjeta_visa_descuentos, ctarjeta_master_descuentos, mtarjeta_master_descuentos, ccomisiones_mantenimiento, mcomisiones_mantenimiento, ccomisiones_otras, mcomisiones_otras, cforex, cforex_buy, mforex_buy, cforex_sell, mforex_sell, ctransferencias_recibidas, mtransferencias_recibidas, ctransferencias_emitidas, mtransferencias_emitidas, cextraccion_autoservicio, mextraccion_autoservicio, ccheques_depositados, mcheques_depositados, ccheques_emitidos, mcheques_emitidos, ccheques_depositados_rechazados, mcheques_depositados_rechazados, ccheques_emitidos_rechazados, mcheques_emitidos_rechazados, tcallcenter, ccallcenter_transacciones, thomebanking, chomebanking_transacciones, ccajas_transacciones, ccajas_consultas, ...]\n",
       "Index: []\n",
       "\n",
       "[0 rows x 155 columns]"
      ]
     },
     "execution_count": 7,
     "metadata": {},
     "output_type": "execute_result"
    }
   ],
   "source": [
    "df[(df['clase_ternaria'] =='BAJA+3') & (df['foto_mes']==202102)]"
   ]
  }
 ],
 "metadata": {
  "kernelspec": {
   "display_name": "jupyter-env",
   "language": "python",
   "name": "python3"
  },
  "language_info": {
   "codemirror_mode": {
    "name": "ipython",
    "version": 3
   },
   "file_extension": ".py",
   "mimetype": "text/x-python",
   "name": "python",
   "nbconvert_exporter": "python",
   "pygments_lexer": "ipython3",
   "version": "3.12.7"
  }
 },
 "nbformat": 4,
 "nbformat_minor": 2
}
