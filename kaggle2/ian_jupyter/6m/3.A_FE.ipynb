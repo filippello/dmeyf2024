{
 "cells": [
  {
   "cell_type": "code",
   "execution_count": 1,
   "metadata": {},
   "outputs": [],
   "source": [
    "%run \"../librerias.ipynb\"\n",
    "#2. Constantes.\n",
    "%run \"../constantes.ipynb\"\n",
    "\n",
    "dataset_input = dataset_file_preprocesado_all_1_limpieza\n",
    "dataset_output = dataset_file_fe_all_1_limpieza\n",
    "ventana = 1\n",
    "%run \"../funciones.ipynb\""
   ]
  },
  {
   "cell_type": "code",
   "execution_count": 3,
   "metadata": {},
   "outputs": [],
   "source": [
    "df = pd.read_csv('/Users/federicofilippello/Projects/dmeyf2024/kaggle2/competencia_02_inflacion.csv')"
   ]
  },
  {
   "cell_type": "code",
   "execution_count": 8,
   "metadata": {},
   "outputs": [],
   "source": [
    "import pandas as pd\n",
    "\n",
    "# Suponiendo que tu DataFrame se llama 'df'\n",
    "df['tc_consumo_total'] = df['mtarjeta_visa_consumo'].fillna(0) + df['mtarjeta_master_consumo'].fillna(0)\n",
    "#df['tc_debitosautomaticos_total'] = df['mtarjeta_visa_debitos_automaticos'].fillna(0) + df['mtarjeta_master_debitos_automaticos'].fillna(0)\n",
    "df['tc_financiacionlimite_total'] = df['Master_mfinanciacion_limite'].fillna(0) + df['Visa_mfinanciacion_limite'].fillna(0)\n",
    "df['tc_saldopesos_total'] = df['Master_msaldopesos'].fillna(0) + df['Visa_msaldopesos'].fillna(0)\n",
    "df['tc_saldodolares_total'] = df['Master_msaldodolares'].fillna(0) + df['Visa_msaldodolares'].fillna(0)\n",
    "df['tc_consumopesos_total'] = df['Master_mconsumospesos'].fillna(0) + df['Visa_mconsumospesos'].fillna(0)\n",
    "#df['tc_consumodolares_total'] = df['Master_mconsumosdolares'].fillna(0) + df['Visa_mconsumosdolares'].fillna(0)\n",
    "df['tc_limitecompra_total'] = df['Master_mlimitecompra'].fillna(0) + df['Visa_mlimitecompra'].fillna(0)\n",
    "df['tc_adelantopesos_total'] = df['Master_madelantopesos'].fillna(0) + df['Visa_madelantopesos'].fillna(0)\n",
    "df['tc_adelantodolares_total'] = df['Master_madelantodolares'].fillna(0) + df['Visa_madelantodolares'].fillna(0)\n",
    "df['tc_adelanto_total'] = df['tc_adelantopesos_total'].fillna(0) + df['tc_adelantodolares_total'].fillna(0)\n",
    "df['tc_pagado_total'] = df['Master_mpagado'].fillna(0) + df['Visa_mpagado'].fillna(0)\n",
    "df['tc_pagadopesos_total'] = df['Master_mpagospesos'].fillna(0) + df['Visa_mpagospesos'].fillna(0)\n",
    "df['tc_pagadodolares_total'] = df['Master_mpagosdolares'].fillna(0) + df['Visa_mpagosdolares'].fillna(0)\n",
    "df['tc_saldototal_total'] = df['Master_msaldototal'].fillna(0) + df['Visa_msaldototal'].fillna(0)\n",
    "df['tc_consumototal_total'] = df['Master_mconsumototal'].fillna(0) + df['Visa_mconsumototal'].fillna(0)\n",
    "df['tc_cconsumos_total'] = df['Master_cconsumos'].fillna(0) + df['Visa_cconsumos'].fillna(0)\n",
    "df['tc_morosidad_total'] = df['Master_delinquency'].fillna(0) + df['Visa_delinquency'].fillna(0)\n"
   ]
  },
  {
   "cell_type": "code",
   "execution_count": 9,
   "metadata": {},
   "outputs": [],
   "source": [
    "import numpy as np\n",
    "\n",
    "# Suponiendo que tu DataFrame original se llama 'df'\n",
    "df['tc_fvencimiento_mayor'] = np.maximum(df['Master_Fvencimiento'], df['Visa_Fvencimiento'])\n",
    "df['tc_fvencimiento_menor'] = np.minimum(df['Master_Fvencimiento'], df['Visa_Fvencimiento'])\n",
    "\n",
    "df['tc_fechaalta_mayor'] = np.maximum(df['Master_fechaalta'], df['Visa_fechaalta'])\n",
    "df['tc_fechalta_menor'] = np.minimum(df['Master_fechaalta'], df['Visa_fechaalta'])\n",
    "\n",
    "df['tc_fechamora_mayor'] = np.maximum(df['Master_Finiciomora'], df['Visa_Finiciomora'])\n",
    "df['tc_fechamora_menor'] = np.minimum(df['Master_Finiciomora'], df['Visa_Finiciomora'])\n",
    "\n",
    "df['tc_fechacierre_mayor'] = np.maximum(df['Master_fultimo_cierre'], df['Visa_fultimo_cierre'])\n",
    "df['tc_fechacierre_menor'] = np.minimum(df['Master_fultimo_cierre'], df['Visa_fultimo_cierre'])\n"
   ]
  },
  {
   "cell_type": "code",
   "execution_count": 10,
   "metadata": {},
   "outputs": [],
   "source": [
    "#df['Master_Fvencimiento'] = pd.to_datetime(df['Master_Fvencimiento'])\n",
    "#df['Visa_Fvencimiento'] = pd.to_datetime(df['Visa_Fvencimiento'])"
   ]
  },
  {
   "cell_type": "code",
   "execution_count": 11,
   "metadata": {},
   "outputs": [],
   "source": [
    "df['m_plazofijo_total'] = df['mplazo_fijo_dolares'].fillna(0) + df['mplazo_fijo_pesos'].fillna(0)\n",
    "df['m_inversion1_total'] = df['minversion1_dolares'].fillna(0) + df['minversion1_pesos'].fillna(0)\n",
    "df['m_payroll_total'] = df['mpayroll'].fillna(0) + df['mpayroll2'].fillna(0)\n",
    "df['c_payroll_total'] = df['cpayroll_trx'].fillna(0) + df['cpayroll2_trx'].fillna(0)\n",
    "\n",
    "# Para la suma anidada de c_seguros_total\n",
    "df['c_seguros_total'] = (\n",
    "    df['cseguro_vida'].fillna(0) +\n",
    "    df['cseguro_auto'].fillna(0) +\n",
    "    df['cseguro_vivienda'].fillna(0) +\n",
    "    df['cseguro_accidentes_personales'].fillna(0)\n",
    ")"
   ]
  },
  {
   "cell_type": "code",
   "execution_count": 12,
   "metadata": {},
   "outputs": [],
   "source": [
    "# Crear la columna 'cliente_antiguedad_6' que divide la población en 10 partes según la antigüedad por 'foto_mes'\n",
    "df['cliente_antiguedad_6'] = (\n",
    "    df.sort_values(by=['foto_mes', 'cliente_antiguedad'])  # Ordenar por foto_mes y cliente_antiguedad\n",
    "    .groupby('foto_mes')['cliente_antiguedad']             # Agrupar por foto_mes\n",
    "    .transform(lambda x: pd.qcut(x.rank(method='first'), 10, labels=range(1, 11)))  # Asignar percentiles\n",
    ")\n",
    "\n",
    "# Ordenar por numero_de_cliente y cliente_antiguedad\n",
    "df = df.sort_values(by=['numero_de_cliente', 'cliente_antiguedad'])"
   ]
  },
  {
   "cell_type": "code",
   "execution_count": 13,
   "metadata": {},
   "outputs": [],
   "source": [
    "# Crear la columna 'antiguedad_tarjetas' dividiendo en 10 partes según 'tc_fechaalta_mayor' agrupado por 'foto_mes'\n",
    "df['antiguedad_tarjetas'] = (\n",
    "    df.sort_values(by=['foto_mes', 'tc_fechaalta_mayor'])  # Ordenar por foto_mes y tc_fechaalta_mayor\n",
    "    .groupby('foto_mes')['tc_fechaalta_mayor']             # Agrupar por foto_mes\n",
    "    .transform(lambda x: pd.qcut(x.rank(method='first'), 10, labels=range(1, 11)))  # Asignar percentiles\n",
    ")\n",
    "\n",
    "# Ordenar por numero_de_cliente y tc_fechaalta_mayor\n",
    "df = df.sort_values(by=['numero_de_cliente', 'tc_fechaalta_mayor'])"
   ]
  },
  {
   "cell_type": "code",
   "execution_count": 14,
   "metadata": {},
   "outputs": [],
   "source": [
    "#df['tc_fechaalta_mayor'] = pd.to_datetime(df['tc_fechaalta_mayor'])"
   ]
  },
  {
   "cell_type": "code",
   "execution_count": 18,
   "metadata": {},
   "outputs": [],
   "source": [
    "# Función auxiliar para la división segura\n",
    "def division_segura(numerador, denominador):\n",
    "    return np.where(denominador == 0, 0, numerador / denominador)\n",
    "\n",
    "# Suponiendo que el DataFrame se llama 'df'\n",
    "df['m_promedio_plazofijo_total'] = division_segura(df['m_plazofijo_total'], df['cplazo_fijo'])\n",
    "df['m_promedio_inversion_total'] = division_segura(df['m_inversion1_total'], df['cinversion1'])\n",
    "df['m_promedio_caja_ahorro'] = division_segura(df['mcaja_ahorro'], df['ccaja_ahorro'])\n",
    "df['m_promedio_tarjeta_visa_consumo_por_transaccion'] = division_segura(df['mtarjeta_visa_consumo'], df['ctarjeta_visa_transacciones'])\n",
    "df['m_promedio_tarjeta_master_consumo_por_transaccion'] = division_segura(df['mtarjeta_master_consumo'], df['ctarjeta_master_transacciones'])\n",
    "#df['m_promedio_prestamos_personales'] = division_segura(df['mprestamos_personales'], df['cprestamos_personales'])\n",
    "df['m_promedio_prestamos_prendarios'] = division_segura(df['mprestamos_prendarios'], df['cprestamos_prendarios'])\n",
    "df['m_promedio_prestamos_hipotecarios'] = division_segura(df['mprestamos_hipotecarios'], df['cprestamos_hipotecarios'])\n",
    "df['m_promedio_inversion2'] = division_segura(df['minversion2'], df['cinversion2'])\n",
    "df['m_promedio_pagodeservicios'] = division_segura(df['mpagodeservicios'], df['cpagodeservicios'])\n",
    "df['m_promedio_pagomiscuentas'] = division_segura(df['mpagomiscuentas'], df['cpagomiscuentas'])\n",
    "df['m_promedio_cajeros_propios_descuentos'] = division_segura(df['mcajeros_propios_descuentos'], df['ccajeros_propios_descuentos'])\n",
    "df['m_promedio_tarjeta_visa_descuentos'] = division_segura(df['mtarjeta_visa_descuentos'], df['ctarjeta_visa_descuentos'])\n",
    "df['m_promedio_tarjeta_master_descuentos'] = division_segura(df['mtarjeta_master_descuentos'], df['ctarjeta_master_descuentos'])\n",
    "df['m_promedio_comisiones_mantenimiento'] = division_segura(df['mcomisiones_mantenimiento'], df['ccomisiones_mantenimiento'])\n",
    "df['m_promedio_comisiones_otras'] = division_segura(df['mcomisiones_otras'], df['ccomisiones_otras'])\n",
    "df['m_promedio_forex_buy'] = division_segura(df['mforex_buy'], df['cforex_buy'])\n",
    "#df['m_promedio_forex_sell'] = division_segura(df['mforex_sell'], df['cforex_sell'])\n",
    "df['m_promedio_transferencias_recibidas'] = division_segura(df['mtransferencias_recibidas'], df['ctransferencias_recibidas'])\n",
    "df['m_promedio_transferencias_emitidas'] = division_segura(df['mtransferencias_emitidas'], df['ctransferencias_emitidas'])\n",
    "df['m_promedio_extraccion_autoservicio'] = division_segura(df['mextraccion_autoservicio'], df['cextraccion_autoservicio'])\n",
    "df['m_promedio_cheques_depositados'] = division_segura(df['mcheques_depositados'], df['ccheques_depositados'])\n",
    "df['m_promedio_cheques_emitidos'] = division_segura(df['mcheques_emitidos'], df['ccheques_emitidos'])\n",
    "df['m_promedio_cheques_depositados_rechazados'] = division_segura(df['mcheques_depositados_rechazados'], df['ccheques_depositados_rechazados'])\n",
    "df['m_promedio_cheques_emitidos_rechazados'] = division_segura(df['mcheques_emitidos_rechazados'], df['ccheques_emitidos_rechazados'])\n",
    "df['m_promedio_atm'] = division_segura(df['matm'], df['catm_trx'])\n",
    "df['m_promedio_atm_other'] = division_segura(df['matm_other'], df['catm_trx_other'])\n",
    "df['proporcion_financiacion_master_cubierto'] = division_segura(df['Master_msaldototal'], df['Master_mfinanciacion_limite'])\n",
    "df['proporcion_limite_master_cubierto'] = division_segura(df['Master_msaldototal'], df['Master_mlimitecompra'])\n",
    "df['proporcion_financiacion_visa_cubierto'] = division_segura(df['Visa_msaldototal'], df['Visa_mfinanciacion_limite'])\n",
    "df['proporcion_limite_visa_cubierto'] = division_segura(df['Visa_msaldototal'], df['Visa_mlimitecompra'])\n",
    "df['proporcion_financiacion_total_cubierto'] = division_segura(df['tc_saldototal_total'], df['tc_financiacionlimite_total'])\n",
    "df['proporcion_limite_total_cubierto'] = division_segura(df['tc_saldototal_total'], df['tc_limitecompra_total'])\n",
    "df['tc_proporcion_saldo_pesos'] = division_segura(df['tc_saldopesos_total'], df['tc_saldototal_total'])\n",
    "df['tc_proporcion_saldo_dolares'] = division_segura(df['tc_saldodolares_total'], df['tc_saldototal_total'])\n",
    "df['tc_proporcion_consumo_pesos'] = division_segura(df['tc_consumopesos_total'], df['tc_consumototal_total'])\n",
    "#df['tc_proporcion_consumo_dolares'] = division_segura(df['tc_consumodolares_total'], df['tc_consumototal_total'])\n",
    "df['tc_proporcion_consumo_total_limite_total_cubierto'] = division_segura(df['tc_consumototal_total'], df['tc_limitecompra_total'])\n",
    "df['tc_proporcion_pago_pesos'] = division_segura(df['tc_pagadopesos_total'], df['tc_pagado_total'])\n",
    "df['tc_proporcion_pago_dolares'] = division_segura(df['tc_pagadodolares_total'], df['tc_pagado_total'])\n",
    "df['tc_proporcion_adelanto_pesos'] = division_segura(df['tc_adelantopesos_total'], df['tc_adelanto_total'])\n",
    "df['tc_proporcion_adelanto_dolares'] = division_segura(df['tc_adelantodolares_total'], df['tc_adelanto_total'])\n"
   ]
  },
  {
   "cell_type": "code",
   "execution_count": 25,
   "metadata": {},
   "outputs": [],
   "source": [
    "#df['Visa_Fvencimiento'] = df['Visa_Fvencimiento'].dt.year.astype(float)\n",
    "\n",
    "#df['tc_fechaalta_mayor'] = df['tc_fechaalta_mayor'].dt.year.astype(float)\n",
    "\n",
    "#df['Master_Fvencimiento'] = df['Master_Fvencimiento'].dt.year.astype(float)"
   ]
  },
  {
   "cell_type": "code",
   "execution_count": 24,
   "metadata": {},
   "outputs": [],
   "source": [
    "df.to_csv('/Users/federicofilippello/Projects/dmeyf2024/kaggle2/competencia_02_inflacion_variablesFE.csv', index=False)"
   ]
  }
 ],
 "metadata": {
  "kernelspec": {
   "display_name": "jupyter-env",
   "language": "python",
   "name": "python3"
  },
  "language_info": {
   "codemirror_mode": {
    "name": "ipython",
    "version": 3
   },
   "file_extension": ".py",
   "mimetype": "text/x-python",
   "name": "python",
   "nbconvert_exporter": "python",
   "pygments_lexer": "ipython3",
   "version": "3.12.7"
  }
 },
 "nbformat": 4,
 "nbformat_minor": 2
}
