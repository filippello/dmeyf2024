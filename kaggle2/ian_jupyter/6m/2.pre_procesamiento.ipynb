{
 "cells": [
  {
   "cell_type": "markdown",
   "metadata": {},
   "source": [
    "## A. Configuraciones generales."
   ]
  },
  {
   "cell_type": "code",
   "execution_count": 27,
   "metadata": {},
   "outputs": [],
   "source": [
    "#1. Librerías.\n",
    "%run \"../librerias.ipynb\""
   ]
  },
  {
   "cell_type": "code",
   "execution_count": 28,
   "metadata": {},
   "outputs": [],
   "source": [
    "#2. Constantes.\n",
    "%run \"../constantes.ipynb\"\n",
    "\n",
    "mes_train = mes_train_ult_6_meses\n",
    "mes_test = mes_test\n",
    "\n",
    "dataset_output = dataset_file_preprocesado_6_6"
   ]
  },
  {
   "cell_type": "code",
   "execution_count": 29,
   "metadata": {},
   "outputs": [],
   "source": [
    "#3. Funciones.\n",
    "%run \"../funciones.ipynb\""
   ]
  },
  {
   "cell_type": "code",
   "execution_count": 30,
   "metadata": {},
   "outputs": [],
   "source": [
    "#4. Lectura de datos.\n",
    "data = pd.read_csv(dataset_file_clase_ternaria)"
   ]
  },
  {
   "cell_type": "markdown",
   "metadata": {},
   "source": [
    "## B. Data Quality."
   ]
  },
  {
   "cell_type": "code",
   "execution_count": 31,
   "metadata": {},
   "outputs": [],
   "source": [
    "data_new = pd.read_csv('/Users/federicofilippello/Projects/dmeyf2024/kaggle2/competencia_02_08.csv')"
   ]
  },
  {
   "cell_type": "code",
   "execution_count": 32,
   "metadata": {},
   "outputs": [
    {
     "data": {
      "text/plain": [
       "array([202008, 202108, 201908])"
      ]
     },
     "execution_count": 32,
     "metadata": {},
     "output_type": "execute_result"
    }
   ],
   "source": [
    "data_new['foto_mes'].unique()"
   ]
  },
  {
   "cell_type": "markdown",
   "metadata": {},
   "source": [
    "#### 1. Valores nulos."
   ]
  },
  {
   "cell_type": "code",
   "execution_count": 33,
   "metadata": {},
   "outputs": [
    {
     "data": {
      "text/html": [
       "<div>\n",
       "<style scoped>\n",
       "    .dataframe tbody tr th:only-of-type {\n",
       "        vertical-align: middle;\n",
       "    }\n",
       "\n",
       "    .dataframe tbody tr th {\n",
       "        vertical-align: top;\n",
       "    }\n",
       "\n",
       "    .dataframe thead th {\n",
       "        text-align: right;\n",
       "    }\n",
       "</style>\n",
       "<table border=\"1\" class=\"dataframe\">\n",
       "  <thead>\n",
       "    <tr style=\"text-align: right;\">\n",
       "      <th></th>\n",
       "      <th>Train Null Percentage</th>\n",
       "      <th>Score Null Percentage</th>\n",
       "      <th>diff</th>\n",
       "    </tr>\n",
       "  </thead>\n",
       "  <tbody>\n",
       "    <tr>\n",
       "      <th>clase_ternaria</th>\n",
       "      <td>0.000000</td>\n",
       "      <td>100.000000</td>\n",
       "      <td>100.000000</td>\n",
       "    </tr>\n",
       "    <tr>\n",
       "      <th>Master_mconsumospesos</th>\n",
       "      <td>60.817957</td>\n",
       "      <td>58.356403</td>\n",
       "      <td>2.461554</td>\n",
       "    </tr>\n",
       "    <tr>\n",
       "      <th>Master_cconsumos</th>\n",
       "      <td>60.817957</td>\n",
       "      <td>58.356403</td>\n",
       "      <td>2.461554</td>\n",
       "    </tr>\n",
       "    <tr>\n",
       "      <th>Master_cadelantosefectivo</th>\n",
       "      <td>60.817957</td>\n",
       "      <td>58.356403</td>\n",
       "      <td>2.461554</td>\n",
       "    </tr>\n",
       "    <tr>\n",
       "      <th>Master_mpagosdolares</th>\n",
       "      <td>60.817957</td>\n",
       "      <td>58.356403</td>\n",
       "      <td>2.461554</td>\n",
       "    </tr>\n",
       "    <tr>\n",
       "      <th>...</th>\n",
       "      <td>...</td>\n",
       "      <td>...</td>\n",
       "      <td>...</td>\n",
       "    </tr>\n",
       "    <tr>\n",
       "      <th>mpayroll</th>\n",
       "      <td>0.000000</td>\n",
       "      <td>0.000000</td>\n",
       "      <td>0.000000</td>\n",
       "    </tr>\n",
       "    <tr>\n",
       "      <th>mpayroll2</th>\n",
       "      <td>0.000000</td>\n",
       "      <td>0.000000</td>\n",
       "      <td>0.000000</td>\n",
       "    </tr>\n",
       "    <tr>\n",
       "      <th>cpayroll2_trx</th>\n",
       "      <td>0.000000</td>\n",
       "      <td>0.000000</td>\n",
       "      <td>0.000000</td>\n",
       "    </tr>\n",
       "    <tr>\n",
       "      <th>ccuenta_debitos_automaticos</th>\n",
       "      <td>0.000000</td>\n",
       "      <td>0.000000</td>\n",
       "      <td>0.000000</td>\n",
       "    </tr>\n",
       "    <tr>\n",
       "      <th>mforex_buy</th>\n",
       "      <td>0.000000</td>\n",
       "      <td>0.000000</td>\n",
       "      <td>0.000000</td>\n",
       "    </tr>\n",
       "  </tbody>\n",
       "</table>\n",
       "<p>155 rows × 3 columns</p>\n",
       "</div>"
      ],
      "text/plain": [
       "                             Train Null Percentage  Score Null Percentage  \\\n",
       "clase_ternaria                            0.000000             100.000000   \n",
       "Master_mconsumospesos                    60.817957              58.356403   \n",
       "Master_cconsumos                         60.817957              58.356403   \n",
       "Master_cadelantosefectivo                60.817957              58.356403   \n",
       "Master_mpagosdolares                     60.817957              58.356403   \n",
       "...                                            ...                    ...   \n",
       "mpayroll                                  0.000000               0.000000   \n",
       "mpayroll2                                 0.000000               0.000000   \n",
       "cpayroll2_trx                             0.000000               0.000000   \n",
       "ccuenta_debitos_automaticos               0.000000               0.000000   \n",
       "mforex_buy                                0.000000               0.000000   \n",
       "\n",
       "                                   diff  \n",
       "clase_ternaria               100.000000  \n",
       "Master_mconsumospesos          2.461554  \n",
       "Master_cconsumos               2.461554  \n",
       "Master_cadelantosefectivo      2.461554  \n",
       "Master_mpagosdolares           2.461554  \n",
       "...                                 ...  \n",
       "mpayroll                       0.000000  \n",
       "mpayroll2                      0.000000  \n",
       "cpayroll2_trx                  0.000000  \n",
       "ccuenta_debitos_automaticos    0.000000  \n",
       "mforex_buy                     0.000000  \n",
       "\n",
       "[155 rows x 3 columns]"
      ]
     },
     "execution_count": 33,
     "metadata": {},
     "output_type": "execute_result"
    }
   ],
   "source": [
    "#a. Evaluamos.\n",
    "train_data = data[data['foto_mes'].isin(mes_train)]\n",
    "score_data = data[data['foto_mes'] == mes_test]\n",
    "\n",
    "train_null_percentage = train_data.isnull().mean() * 100\n",
    "score_null_percentage = score_data.isnull().mean() * 100\n",
    "\n",
    "comparison_df = pd.DataFrame({'Train Null Percentage': train_null_percentage, 'Score Null Percentage': score_null_percentage})\n",
    "comparison_df['diff'] = (comparison_df['Score Null Percentage'] - comparison_df['Train Null Percentage']).abs()\n",
    "\n",
    "comparison_df_sorted = comparison_df.sort_values('diff', ascending=False)\n",
    "\n",
    "comparison_df_sorted"
   ]
  },
  {
   "cell_type": "markdown",
   "metadata": {},
   "source": [
    "#### 2. Valores 0."
   ]
  },
  {
   "cell_type": "code",
   "execution_count": 34,
   "metadata": {},
   "outputs": [],
   "source": [
    "#a. Evaluamos.\n",
    "train_zero_percentage = (train_data == 0).mean() * 100\n",
    "score_zero_percentage = (score_data == 0).mean() * 100\n",
    "\n",
    "comparison_df_zero = pd.DataFrame({'Train Zero Percentage': train_zero_percentage, 'Score Zero Percentage': score_zero_percentage})\n",
    "\n",
    "comparison_df_zero['diff_zero_percentage'] = (comparison_df_zero['Score Zero Percentage'] - comparison_df_zero['Train Zero Percentage']).abs()\n",
    "diff_zero_percentage_sorted = comparison_df_zero.sort_values('diff_zero_percentage',ascending=False)"
   ]
  },
  {
   "cell_type": "code",
   "execution_count": 35,
   "metadata": {},
   "outputs": [
    {
     "data": {
      "text/html": [
       "<div>\n",
       "<style scoped>\n",
       "    .dataframe tbody tr th:only-of-type {\n",
       "        vertical-align: middle;\n",
       "    }\n",
       "\n",
       "    .dataframe tbody tr th {\n",
       "        vertical-align: top;\n",
       "    }\n",
       "\n",
       "    .dataframe thead th {\n",
       "        text-align: right;\n",
       "    }\n",
       "</style>\n",
       "<table border=\"1\" class=\"dataframe\">\n",
       "  <thead>\n",
       "    <tr style=\"text-align: right;\">\n",
       "      <th></th>\n",
       "      <th>Train Zero Percentage</th>\n",
       "      <th>Score Zero Percentage</th>\n",
       "      <th>diff_zero_percentage</th>\n",
       "    </tr>\n",
       "  </thead>\n",
       "  <tbody>\n",
       "    <tr>\n",
       "      <th>internet</th>\n",
       "      <td>7.980754</td>\n",
       "      <td>96.764425</td>\n",
       "      <td>88.783671</td>\n",
       "    </tr>\n",
       "    <tr>\n",
       "      <th>tmobile_app</th>\n",
       "      <td>40.181968</td>\n",
       "      <td>97.435355</td>\n",
       "      <td>57.253387</td>\n",
       "    </tr>\n",
       "    <tr>\n",
       "      <th>cforex</th>\n",
       "      <td>70.672576</td>\n",
       "      <td>91.993569</td>\n",
       "      <td>21.320993</td>\n",
       "    </tr>\n",
       "    <tr>\n",
       "      <th>cmobile_app_trx</th>\n",
       "      <td>40.898862</td>\n",
       "      <td>20.980767</td>\n",
       "      <td>19.918095</td>\n",
       "    </tr>\n",
       "    <tr>\n",
       "      <th>mforex_sell</th>\n",
       "      <td>73.531178</td>\n",
       "      <td>92.252874</td>\n",
       "      <td>18.721696</td>\n",
       "    </tr>\n",
       "    <tr>\n",
       "      <th>...</th>\n",
       "      <td>...</td>\n",
       "      <td>...</td>\n",
       "      <td>...</td>\n",
       "    </tr>\n",
       "    <tr>\n",
       "      <th>tcuentas</th>\n",
       "      <td>0.000000</td>\n",
       "      <td>0.000000</td>\n",
       "      <td>0.000000</td>\n",
       "    </tr>\n",
       "    <tr>\n",
       "      <th>cproductos</th>\n",
       "      <td>0.000000</td>\n",
       "      <td>0.000000</td>\n",
       "      <td>0.000000</td>\n",
       "    </tr>\n",
       "    <tr>\n",
       "      <th>cliente_antiguedad</th>\n",
       "      <td>0.000000</td>\n",
       "      <td>0.000000</td>\n",
       "      <td>0.000000</td>\n",
       "    </tr>\n",
       "    <tr>\n",
       "      <th>cliente_edad</th>\n",
       "      <td>0.000000</td>\n",
       "      <td>0.000000</td>\n",
       "      <td>0.000000</td>\n",
       "    </tr>\n",
       "    <tr>\n",
       "      <th>clase_ternaria</th>\n",
       "      <td>0.000000</td>\n",
       "      <td>0.000000</td>\n",
       "      <td>0.000000</td>\n",
       "    </tr>\n",
       "  </tbody>\n",
       "</table>\n",
       "<p>155 rows × 3 columns</p>\n",
       "</div>"
      ],
      "text/plain": [
       "                    Train Zero Percentage  Score Zero Percentage  \\\n",
       "internet                         7.980754              96.764425   \n",
       "tmobile_app                     40.181968              97.435355   \n",
       "cforex                          70.672576              91.993569   \n",
       "cmobile_app_trx                 40.898862              20.980767   \n",
       "mforex_sell                     73.531178              92.252874   \n",
       "...                                   ...                    ...   \n",
       "tcuentas                         0.000000               0.000000   \n",
       "cproductos                       0.000000               0.000000   \n",
       "cliente_antiguedad               0.000000               0.000000   \n",
       "cliente_edad                     0.000000               0.000000   \n",
       "clase_ternaria                   0.000000               0.000000   \n",
       "\n",
       "                    diff_zero_percentage  \n",
       "internet                       88.783671  \n",
       "tmobile_app                    57.253387  \n",
       "cforex                         21.320993  \n",
       "cmobile_app_trx                19.918095  \n",
       "mforex_sell                    18.721696  \n",
       "...                                  ...  \n",
       "tcuentas                        0.000000  \n",
       "cproductos                      0.000000  \n",
       "cliente_antiguedad              0.000000  \n",
       "cliente_edad                    0.000000  \n",
       "clase_ternaria                  0.000000  \n",
       "\n",
       "[155 rows x 3 columns]"
      ]
     },
     "execution_count": 35,
     "metadata": {},
     "output_type": "execute_result"
    }
   ],
   "source": [
    "diff_zero_percentage_sorted"
   ]
  },
  {
   "cell_type": "code",
   "execution_count": 38,
   "metadata": {},
   "outputs": [
    {
     "ename": "TypeError",
     "evalue": "'Index' object is not callable",
     "output_type": "error",
     "traceback": [
      "\u001b[0;31m---------------------------------------------------------------------------\u001b[0m",
      "\u001b[0;31mTypeError\u001b[0m                                 Traceback (most recent call last)",
      "Cell \u001b[0;32mIn[38], line 2\u001b[0m\n\u001b[1;32m      1\u001b[0m \u001b[38;5;66;03m#b. Decidimos eliminar aquellas columnas con un gran cambio en la cantidad de 0 en el mes test.\u001b[39;00m\n\u001b[0;32m----> 2\u001b[0m cols_eliminar \u001b[38;5;241m=\u001b[39m \u001b[38;5;28mlist\u001b[39m(\u001b[43mdiff_zero_percentage_sorted\u001b[49m\u001b[43m[\u001b[49m\u001b[43m(\u001b[49m\u001b[43mdiff_zero_percentage_sorted\u001b[49m\u001b[43m[\u001b[49m\u001b[38;5;124;43m\"\u001b[39;49m\u001b[38;5;124;43mdiff_zero_percentage\u001b[39;49m\u001b[38;5;124;43m\"\u001b[39;49m\u001b[43m]\u001b[49m\u001b[43m \u001b[49m\u001b[38;5;241;43m>\u001b[39;49m\u001b[43m \u001b[49m\u001b[38;5;241;43m5\u001b[39;49m\u001b[43m)\u001b[49m\u001b[38;5;241;43m&\u001b[39;49m\u001b[43m(\u001b[49m\u001b[43mdiff_zero_percentage_sorted\u001b[49m\u001b[43m[\u001b[49m\u001b[38;5;124;43m\"\u001b[39;49m\u001b[38;5;124;43mScore Zero Percentage\u001b[39;49m\u001b[38;5;124;43m\"\u001b[39;49m\u001b[43m]\u001b[49m\u001b[38;5;241;43m>\u001b[39;49m\u001b[43mdiff_zero_percentage_sorted\u001b[49m\u001b[43m[\u001b[49m\u001b[38;5;124;43m\"\u001b[39;49m\u001b[38;5;124;43mTrain Zero Percentage\u001b[39;49m\u001b[38;5;124;43m\"\u001b[39;49m\u001b[43m]\u001b[49m\u001b[43m)\u001b[49m\u001b[43m]\u001b[49m\u001b[38;5;241;43m.\u001b[39;49m\u001b[43mindex\u001b[49m\u001b[43m(\u001b[49m\u001b[43m)\u001b[49m)\n\u001b[1;32m      3\u001b[0m data\u001b[38;5;241m.\u001b[39mdrop(cols_eliminar,axis\u001b[38;5;241m=\u001b[39m\u001b[38;5;241m1\u001b[39m,inplace\u001b[38;5;241m=\u001b[39m\u001b[38;5;28;01mTrue\u001b[39;00m)\n\u001b[1;32m      5\u001b[0m train_data\u001b[38;5;241m.\u001b[39mdrop(cols_eliminar,axis\u001b[38;5;241m=\u001b[39m\u001b[38;5;241m1\u001b[39m,inplace\u001b[38;5;241m=\u001b[39m\u001b[38;5;28;01mTrue\u001b[39;00m)\n",
      "\u001b[0;31mTypeError\u001b[0m: 'Index' object is not callable"
     ]
    }
   ],
   "source": [
    "#b. Decidimos eliminar aquellas columnas con un gran cambio en la cantidad de 0 en el mes test.\n",
    "cols_eliminar = list(diff_zero_percentage_sorted[(diff_zero_percentage_sorted[\"diff_zero_percentage\"] > 5) & \n",
    "                                                 (diff_zero_percentage_sorted[\"Score Zero Percentage\"] > diff_zero_percentage_sorted[\"Train Zero Percentage\"])].index)\n",
    "data.drop(cols_eliminar,axis=1,inplace=True)\n",
    "\n",
    "train_data.drop(cols_eliminar,axis=1,inplace=True)\n",
    "score_data.drop(cols_eliminar,axis=1,inplace=True)"
   ]
  },
  {
   "cell_type": "markdown",
   "metadata": {},
   "source": [
    "#### 3. Valores <0."
   ]
  },
  {
   "cell_type": "code",
   "execution_count": 28,
   "metadata": {},
   "outputs": [
    {
     "data": {
      "text/html": [
       "<div>\n",
       "<style scoped>\n",
       "    .dataframe tbody tr th:only-of-type {\n",
       "        vertical-align: middle;\n",
       "    }\n",
       "\n",
       "    .dataframe tbody tr th {\n",
       "        vertical-align: top;\n",
       "    }\n",
       "\n",
       "    .dataframe thead th {\n",
       "        text-align: right;\n",
       "    }\n",
       "</style>\n",
       "<table border=\"1\" class=\"dataframe\">\n",
       "  <thead>\n",
       "    <tr style=\"text-align: right;\">\n",
       "      <th></th>\n",
       "      <th>Train Negative Percentage</th>\n",
       "      <th>Score Negative Percentage</th>\n",
       "      <th>diff_negative_percentage</th>\n",
       "    </tr>\n",
       "  </thead>\n",
       "  <tbody>\n",
       "    <tr>\n",
       "      <th>Master_Finiciomora</th>\n",
       "      <td>0.002444</td>\n",
       "      <td>0.000000</td>\n",
       "      <td>0.002444</td>\n",
       "    </tr>\n",
       "    <tr>\n",
       "      <th>Master_msaldototal</th>\n",
       "      <td>0.004379</td>\n",
       "      <td>0.003627</td>\n",
       "      <td>0.000752</td>\n",
       "    </tr>\n",
       "    <tr>\n",
       "      <th>Master_msaldopesos</th>\n",
       "      <td>0.004277</td>\n",
       "      <td>0.003627</td>\n",
       "      <td>0.000651</td>\n",
       "    </tr>\n",
       "    <tr>\n",
       "      <th>mactivos_margen</th>\n",
       "      <td>0.001731</td>\n",
       "      <td>0.001209</td>\n",
       "      <td>0.000522</td>\n",
       "    </tr>\n",
       "    <tr>\n",
       "      <th>mrentabilidad</th>\n",
       "      <td>0.000102</td>\n",
       "      <td>0.000604</td>\n",
       "      <td>0.000503</td>\n",
       "    </tr>\n",
       "    <tr>\n",
       "      <th>...</th>\n",
       "      <td>...</td>\n",
       "      <td>...</td>\n",
       "      <td>...</td>\n",
       "    </tr>\n",
       "    <tr>\n",
       "      <th>cpayroll2_trx</th>\n",
       "      <td>0.000000</td>\n",
       "      <td>0.000000</td>\n",
       "      <td>0.000000</td>\n",
       "    </tr>\n",
       "    <tr>\n",
       "      <th>ccuenta_debitos_automaticos</th>\n",
       "      <td>0.000000</td>\n",
       "      <td>0.000000</td>\n",
       "      <td>0.000000</td>\n",
       "    </tr>\n",
       "    <tr>\n",
       "      <th>mcuenta_debitos_automaticos</th>\n",
       "      <td>0.000000</td>\n",
       "      <td>0.000000</td>\n",
       "      <td>0.000000</td>\n",
       "    </tr>\n",
       "    <tr>\n",
       "      <th>ctarjeta_visa_debitos_automaticos</th>\n",
       "      <td>0.000000</td>\n",
       "      <td>0.000000</td>\n",
       "      <td>0.000000</td>\n",
       "    </tr>\n",
       "    <tr>\n",
       "      <th>cseguro_vivienda</th>\n",
       "      <td>0.000000</td>\n",
       "      <td>0.000000</td>\n",
       "      <td>0.000000</td>\n",
       "    </tr>\n",
       "  </tbody>\n",
       "</table>\n",
       "<p>151 rows × 3 columns</p>\n",
       "</div>"
      ],
      "text/plain": [
       "                                   Train Negative Percentage  \\\n",
       "Master_Finiciomora                                  0.002444   \n",
       "Master_msaldototal                                  0.004379   \n",
       "Master_msaldopesos                                  0.004277   \n",
       "mactivos_margen                                     0.001731   \n",
       "mrentabilidad                                       0.000102   \n",
       "...                                                      ...   \n",
       "cpayroll2_trx                                       0.000000   \n",
       "ccuenta_debitos_automaticos                         0.000000   \n",
       "mcuenta_debitos_automaticos                         0.000000   \n",
       "ctarjeta_visa_debitos_automaticos                   0.000000   \n",
       "cseguro_vivienda                                    0.000000   \n",
       "\n",
       "                                   Score Negative Percentage  \\\n",
       "Master_Finiciomora                                  0.000000   \n",
       "Master_msaldototal                                  0.003627   \n",
       "Master_msaldopesos                                  0.003627   \n",
       "mactivos_margen                                     0.001209   \n",
       "mrentabilidad                                       0.000604   \n",
       "...                                                      ...   \n",
       "cpayroll2_trx                                       0.000000   \n",
       "ccuenta_debitos_automaticos                         0.000000   \n",
       "mcuenta_debitos_automaticos                         0.000000   \n",
       "ctarjeta_visa_debitos_automaticos                   0.000000   \n",
       "cseguro_vivienda                                    0.000000   \n",
       "\n",
       "                                   diff_negative_percentage  \n",
       "Master_Finiciomora                                 0.002444  \n",
       "Master_msaldototal                                 0.000752  \n",
       "Master_msaldopesos                                 0.000651  \n",
       "mactivos_margen                                    0.000522  \n",
       "mrentabilidad                                      0.000503  \n",
       "...                                                     ...  \n",
       "cpayroll2_trx                                      0.000000  \n",
       "ccuenta_debitos_automaticos                        0.000000  \n",
       "mcuenta_debitos_automaticos                        0.000000  \n",
       "ctarjeta_visa_debitos_automaticos                  0.000000  \n",
       "cseguro_vivienda                                   0.000000  \n",
       "\n",
       "[151 rows x 3 columns]"
      ]
     },
     "execution_count": 28,
     "metadata": {},
     "output_type": "execute_result"
    }
   ],
   "source": [
    "#a. Evaluamos.\n",
    "train_negative_percentage = (train_data == -1).mean() * 100\n",
    "score_negative_percentage = (score_data == -1).mean() * 100\n",
    "\n",
    "comparison_df_zero = pd.DataFrame({'Train Negative Percentage': train_negative_percentage, 'Score Negative Percentage': score_negative_percentage})\n",
    "\n",
    "comparison_df_zero['diff_negative_percentage'] = (comparison_df_zero['Score Negative Percentage'] - comparison_df_zero['Train Negative Percentage']).abs()\n",
    "diff_negative_percentage_sorted = comparison_df_zero.sort_values('diff_negative_percentage',ascending=False)\n",
    "\n",
    "diff_negative_percentage_sorted"
   ]
  },
  {
   "cell_type": "markdown",
   "metadata": {},
   "source": [
    "#### 4. Valores duplicados."
   ]
  },
  {
   "cell_type": "code",
   "execution_count": null,
   "metadata": {},
   "outputs": [
    {
     "name": "stdout",
     "output_type": "stream",
     "text": [
      "Train tiene 0 valores duplicados\n",
      "Test tiene 0 valores duplicados\n"
     ]
    }
   ],
   "source": [
    "#a. Verifico.\n",
    "print(\"Train tiene {} valores duplicados\".format(train_data.duplicated().sum()))\n",
    "print(\"Test tiene {} valores duplicados\".format(score_data.duplicated().sum()))"
   ]
  },
  {
   "cell_type": "markdown",
   "metadata": {},
   "source": [
    "## C. Data Drifting."
   ]
  },
  {
   "cell_type": "code",
   "execution_count": 32,
   "metadata": {},
   "outputs": [
    {
     "name": "stderr",
     "output_type": "stream",
     "text": [
      "/tmp/ipykernel_2547/3157422034.py:7: RuntimeWarning: divide by zero encountered in log\n",
      "  result = (actual_prop - expected_prop) * np.log(actual_prop / expected_prop)\n"
     ]
    }
   ],
   "source": [
    "#1. Aplicamos PSI a casi todas las variables, excepto las de no interés.\n",
    "psi_results = []\n",
    "for column in train_data.columns:\n",
    "  if column not in ['foto_mes','numero_de_cliente','clase_ternaria']:\n",
    "    train_variable = train_data[column]\n",
    "    score_variable = score_data[column]\n",
    "    psi_value = psi(train_variable, score_variable)\n",
    "    psi_results.append({'feature': column, 'psi': psi_value})\n",
    "\n",
    "psi_df = pd.DataFrame(psi_results)\n",
    "psi_df = psi_df.sort_values('psi', ascending=False)"
   ]
  },
  {
   "cell_type": "code",
   "execution_count": null,
   "metadata": {},
   "outputs": [
    {
     "data": {
      "text/html": [
       "<div>\n",
       "<style scoped>\n",
       "    .dataframe tbody tr th:only-of-type {\n",
       "        vertical-align: middle;\n",
       "    }\n",
       "\n",
       "    .dataframe tbody tr th {\n",
       "        vertical-align: top;\n",
       "    }\n",
       "\n",
       "    .dataframe thead th {\n",
       "        text-align: right;\n",
       "    }\n",
       "</style>\n",
       "<table border=\"1\" class=\"dataframe\">\n",
       "  <thead>\n",
       "    <tr style=\"text-align: right;\">\n",
       "      <th></th>\n",
       "      <th>feature</th>\n",
       "      <th>psi</th>\n",
       "    </tr>\n",
       "  </thead>\n",
       "  <tbody>\n",
       "    <tr>\n",
       "      <th>111</th>\n",
       "      <td>Master_Finiciomora</td>\n",
       "      <td>inf</td>\n",
       "    </tr>\n",
       "    <tr>\n",
       "      <th>132</th>\n",
       "      <td>Visa_Finiciomora</td>\n",
       "      <td>0.622660</td>\n",
       "    </tr>\n",
       "    <tr>\n",
       "      <th>110</th>\n",
       "      <td>Master_Fvencimiento</td>\n",
       "      <td>0.130568</td>\n",
       "    </tr>\n",
       "  </tbody>\n",
       "</table>\n",
       "</div>"
      ],
      "text/plain": [
       "                 feature       psi\n",
       "111   Master_Finiciomora       inf\n",
       "132     Visa_Finiciomora  0.622660\n",
       "110  Master_Fvencimiento  0.130568"
      ]
     },
     "execution_count": 33,
     "metadata": {},
     "output_type": "execute_result"
    }
   ],
   "source": [
    "#2. Observamos variables con PSI >= 0.1 (casos a atender).\n",
    "psi_df[psi_df[\"psi\"] > 0.1][\"feature\"]"
   ]
  },
  {
   "cell_type": "code",
   "execution_count": null,
   "metadata": {},
   "outputs": [
    {
     "name": "stderr",
     "output_type": "stream",
     "text": [
      "/tmp/ipykernel_2547/1238236985.py:5: SettingWithCopyWarning: \n",
      "A value is trying to be set on a copy of a slice from a DataFrame\n",
      "\n",
      "See the caveats in the documentation: https://pandas.pydata.org/pandas-docs/stable/user_guide/indexing.html#returning-a-view-versus-a-copy\n",
      "  train_data.drop(cols_eliminar,axis=1,inplace=True)\n",
      "/tmp/ipykernel_2547/1238236985.py:6: SettingWithCopyWarning: \n",
      "A value is trying to be set on a copy of a slice from a DataFrame\n",
      "\n",
      "See the caveats in the documentation: https://pandas.pydata.org/pandas-docs/stable/user_guide/indexing.html#returning-a-view-versus-a-copy\n",
      "  score_data.drop(cols_eliminar,axis=1,inplace=True)\n"
     ]
    }
   ],
   "source": [
    "#3. Elimino las columnas con un PSI alto.\n",
    "cols_eliminar = list(psi_df[psi_df[\"psi\"] > 0.1][\"feature\"])\n",
    "data.drop(cols_eliminar,axis=1,inplace=True)\n",
    "\n",
    "train_data.drop(cols_eliminar,axis=1,inplace=True)\n",
    "score_data.drop(cols_eliminar,axis=1,inplace=True)"
   ]
  },
  {
   "cell_type": "markdown",
   "metadata": {},
   "source": [
    "## D. Ajustes por inflación."
   ]
  },
  {
   "cell_type": "code",
   "execution_count": null,
   "metadata": {},
   "outputs": [],
   "source": [
    "#1. Defino los campos que voy a ajustar por inflación.\n",
    "campos_monetarios = [col for col in data.columns if col.startswith(('m', 'Visa_m', 'Master_m', 'vm_m'))]"
   ]
  },
  {
   "cell_type": "code",
   "execution_count": null,
   "metadata": {},
   "outputs": [
    {
     "name": "stdout",
     "output_type": "stream",
     "text": [
      "inicio drift_deflacion()\n",
      "fin drift_deflacion()\n"
     ]
    }
   ],
   "source": [
    "#2. Le aplico la inflación a todas ellas.\n",
    "data = drift_deflacion(data, campos_monetarios, tb_indices)"
   ]
  },
  {
   "cell_type": "markdown",
   "metadata": {},
   "source": [
    "## E. Exportación."
   ]
  },
  {
   "cell_type": "code",
   "execution_count": null,
   "metadata": {},
   "outputs": [],
   "source": [
    "#1. Exportación propiamente dicha.\n",
    "data.to_csv(dataset_output,index=False)"
   ]
  }
 ],
 "metadata": {
  "kernelspec": {
   "display_name": "jupyter-env",
   "language": "python",
   "name": "python3"
  },
  "language_info": {
   "codemirror_mode": {
    "name": "ipython",
    "version": 3
   },
   "file_extension": ".py",
   "mimetype": "text/x-python",
   "name": "python",
   "nbconvert_exporter": "python",
   "pygments_lexer": "ipython3",
   "version": "3.12.7"
  }
 },
 "nbformat": 4,
 "nbformat_minor": 4
}
